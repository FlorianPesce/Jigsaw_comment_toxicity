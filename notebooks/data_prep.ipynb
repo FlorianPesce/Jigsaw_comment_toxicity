{
 "cells": [
  {
   "cell_type": "code",
   "execution_count": null,
   "metadata": {},
   "outputs": [],
   "source": [
    "import numpy as np\n",
    "from tqdm import tqdm\n",
    "import pandas as pd\n",
    "import os"
   ]
  },
  {
   "cell_type": "code",
   "execution_count": 128,
   "metadata": {},
   "outputs": [],
   "source": [
    "def makedir(dirpath):\n",
    "    if not os.path.exists(dirpath):\n",
    "        os.makedirs(dirpath)\n",
    "        \n",
    "def save_data(data, dataroot, cap):\n",
    "    categories = [\"toxic\",\"severe_toxic\",\"obscene\",\"threat\",\"insult\",\"identity_hate\"]\n",
    "    makedir(os.path.join(dataroot, \"toxic\"))\n",
    "    makedir(os.path.join(dataroot, \"non_toxic\"))\n",
    "    tc = 0\n",
    "    ntc = 0\n",
    "    for index, row in tqdm(data.iterrows()):\n",
    "        filename = row['id']\n",
    "        text = row['comment_text']\n",
    "        # print(row['toxic'])\n",
    "        \n",
    "        labels = []\n",
    "        for cat in categories:\n",
    "            labels.append(row[cat])\n",
    "        \n",
    "        \n",
    "        if (min(labels)==0 and max(labels)==0): toxic = -1\n",
    "        elif (max(labels) == 1): toxic = 1\n",
    "        else: toxic = 0\n",
    "\n",
    "        if cap is not None and tc>=cap and ntc>=cap:\n",
    "            break\n",
    "        \n",
    "        if toxic==1:\n",
    "            if cap is not None and tc>=cap:\n",
    "                continue\n",
    "            tc+=1\n",
    "            filepath = os.path.join(dataroot, \"toxic\", filename)+\".txt\"\n",
    "        elif toxic==-1:\n",
    "            if cap is not None and ntc>=cap:\n",
    "                continue\n",
    "            ntc+=1\n",
    "            filepath = os.path.join(dataroot, \"non_toxic\", filename)+\".txt\"\n",
    "        else:\n",
    "            continue\n",
    "        with open(filepath, 'w') as file:\n",
    "            file.write(text)"
   ]
  },
  {
   "cell_type": "code",
   "execution_count": 133,
   "metadata": {},
   "outputs": [
    {
     "name": "stderr",
     "output_type": "stream",
     "text": [
      "159555it [00:39, 3993.48it/s]\n"
     ]
    }
   ],
   "source": [
    "cap = 16225\n",
    "dataroot = \"../data/jigsaw1_use_balanced/train\"\n",
    "\n",
    "trainpath = \"../data/jigsaw1_org/train.csv\"\n",
    "data =  pd.read_csv(trainpath)\n",
    "\n",
    "save_data(data, dataroot, cap)\n",
    "\n"
   ]
  },
  {
   "cell_type": "code",
   "execution_count": 134,
   "metadata": {},
   "outputs": [
    {
     "name": "stderr",
     "output_type": "stream",
     "text": [
      "153156it [00:34, 4381.58it/s]\n"
     ]
    }
   ],
   "source": [
    "\n",
    "cap = 6243\n",
    "dataroot = \"../data/jigsaw1_use_balanced/test\"\n",
    "\n",
    "testpath = \"../data/jigsaw1_org/test.csv\"\n",
    "testlabelspath = \"../data/jigsaw1_org/test_labels.csv\"\n",
    "\n",
    "testdata =  pd.read_csv(testpath)\n",
    "testlabels =  pd.read_csv(testlabelspath)\n",
    "data = pd.merge(testdata, testlabels, on='id', how=\"inner\")\n",
    "\n",
    "\n",
    "save_data(data, dataroot, cap)\n",
    "    "
   ]
  },
  {
   "cell_type": "markdown",
   "metadata": {},
   "source": [
    "## Jigsaw 3"
   ]
  },
  {
   "cell_type": "code",
   "execution_count": 136,
   "metadata": {},
   "outputs": [
    {
     "data": {
      "text/html": [
       "<div>\n",
       "<style scoped>\n",
       "    .dataframe tbody tr th:only-of-type {\n",
       "        vertical-align: middle;\n",
       "    }\n",
       "\n",
       "    .dataframe tbody tr th {\n",
       "        vertical-align: top;\n",
       "    }\n",
       "\n",
       "    .dataframe thead th {\n",
       "        text-align: right;\n",
       "    }\n",
       "</style>\n",
       "<table border=\"1\" class=\"dataframe\">\n",
       "  <thead>\n",
       "    <tr style=\"text-align: right;\">\n",
       "      <th></th>\n",
       "      <th>comment_id</th>\n",
       "      <th>text</th>\n",
       "    </tr>\n",
       "  </thead>\n",
       "  <tbody>\n",
       "    <tr>\n",
       "      <th>0</th>\n",
       "      <td>114890</td>\n",
       "      <td>\"\\n \\n\\nGjalexei, you asked about whether ther...</td>\n",
       "    </tr>\n",
       "    <tr>\n",
       "      <th>1</th>\n",
       "      <td>732895</td>\n",
       "      <td>Looks like be have an abuser , can you please ...</td>\n",
       "    </tr>\n",
       "    <tr>\n",
       "      <th>2</th>\n",
       "      <td>1139051</td>\n",
       "      <td>I confess to having complete (and apparently b...</td>\n",
       "    </tr>\n",
       "    <tr>\n",
       "      <th>3</th>\n",
       "      <td>1434512</td>\n",
       "      <td>\"\\n\\nFreud's ideas are certainly much discusse...</td>\n",
       "    </tr>\n",
       "    <tr>\n",
       "      <th>4</th>\n",
       "      <td>2084821</td>\n",
       "      <td>It is not just you. This is a laundry list of ...</td>\n",
       "    </tr>\n",
       "    <tr>\n",
       "      <th>...</th>\n",
       "      <td>...</td>\n",
       "      <td>...</td>\n",
       "    </tr>\n",
       "    <tr>\n",
       "      <th>7532</th>\n",
       "      <td>504235362</td>\n",
       "      <td>Go away, you annoying vandal.</td>\n",
       "    </tr>\n",
       "    <tr>\n",
       "      <th>7533</th>\n",
       "      <td>504235566</td>\n",
       "      <td>This user is a vandal.</td>\n",
       "    </tr>\n",
       "    <tr>\n",
       "      <th>7534</th>\n",
       "      <td>504308177</td>\n",
       "      <td>\" \\n\\nSorry to sound like a pain, but one by f...</td>\n",
       "    </tr>\n",
       "    <tr>\n",
       "      <th>7535</th>\n",
       "      <td>504570375</td>\n",
       "      <td>Well it's pretty fucking irrelevant now I'm un...</td>\n",
       "    </tr>\n",
       "    <tr>\n",
       "      <th>7536</th>\n",
       "      <td>504598250</td>\n",
       "      <td>The team name is Great Britain and Northern Ir...</td>\n",
       "    </tr>\n",
       "  </tbody>\n",
       "</table>\n",
       "<p>7537 rows × 2 columns</p>\n",
       "</div>"
      ],
      "text/plain": [
       "      comment_id                                               text\n",
       "0         114890  \"\\n \\n\\nGjalexei, you asked about whether ther...\n",
       "1         732895  Looks like be have an abuser , can you please ...\n",
       "2        1139051  I confess to having complete (and apparently b...\n",
       "3        1434512  \"\\n\\nFreud's ideas are certainly much discusse...\n",
       "4        2084821  It is not just you. This is a laundry list of ...\n",
       "...          ...                                                ...\n",
       "7532   504235362                      Go away, you annoying vandal.\n",
       "7533   504235566                           This user is a vandal.  \n",
       "7534   504308177  \" \\n\\nSorry to sound like a pain, but one by f...\n",
       "7535   504570375  Well it's pretty fucking irrelevant now I'm un...\n",
       "7536   504598250  The team name is Great Britain and Northern Ir...\n",
       "\n",
       "[7537 rows x 2 columns]"
      ]
     },
     "execution_count": 136,
     "metadata": {},
     "output_type": "execute_result"
    }
   ],
   "source": [
    "trainfile = \"../data/jigsaw3_org/comments_to_score.csv\"\n",
    "data =  pd.read_csv(trainfile)\n",
    "data"
   ]
  },
  {
   "cell_type": "code",
   "execution_count": 137,
   "metadata": {},
   "outputs": [
    {
     "name": "stderr",
     "output_type": "stream",
     "text": [
      "0it [00:00, ?it/s]"
     ]
    },
    {
     "name": "stdout",
     "output_type": "stream",
     "text": [
      "\"\n",
      " \n",
      "\n",
      "Gjalexei, you asked about whether there is an \"\"anti-editorializing\"\" policy here.  There is, and it's called wikipedia:neutral point of view.  It discusses at some length  the case of what we should do when writing about a subject which most of us find repugnant.  Whilst you're not likely to get too many defenders of FGM here, the need for the policy should be clearer for articles like abortion, for instance.\n",
      "\n",
      "If something you write is edited and you're not sure why, please continue to question such edits on the talk page.  Sometimes, you'll learn more about wikipedia policy.  Sometimes, you'll find out that some other people working on here can get it flat-out wrong ) Robert Merkel\"\n"
     ]
    },
    {
     "name": "stderr",
     "output_type": "stream",
     "text": [
      "\n"
     ]
    }
   ],
   "source": [
    "for index, row in tqdm(data.iterrows()):\n",
    "    print(row['text'])\n",
    "    break"
   ]
  },
  {
   "cell_type": "code",
   "execution_count": null,
   "metadata": {},
   "outputs": [],
   "source": []
  }
 ],
 "metadata": {
  "interpreter": {
   "hash": "943c78cd25a98b24f8d12eaebf5032b5aad3769da73cb65659665ceeebe3ca00"
  },
  "kernelspec": {
   "display_name": "Python 3.9.6 64-bit ('cs7643-a1': conda)",
   "language": "python",
   "name": "python3"
  },
  "language_info": {
   "codemirror_mode": {
    "name": "ipython",
    "version": 3
   },
   "file_extension": ".py",
   "mimetype": "text/x-python",
   "name": "python",
   "nbconvert_exporter": "python",
   "pygments_lexer": "ipython3",
   "version": "3.9.6"
  },
  "orig_nbformat": 4
 },
 "nbformat": 4,
 "nbformat_minor": 2
}
