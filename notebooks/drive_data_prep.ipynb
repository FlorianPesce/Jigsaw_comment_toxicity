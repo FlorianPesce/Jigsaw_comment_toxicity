{
  "cells": [
    {
      "cell_type": "code",
      "execution_count": 1,
      "metadata": {
        "id": "x4mPs5TTc_QU"
      },
      "outputs": [],
      "source": [
        "import numpy as np\n",
        "from tqdm import tqdm\n",
        "import pandas as pd\n",
        "import os"
      ]
    },
    {
      "cell_type": "code",
      "source": [
        "from google.colab import drive\n",
        "drive.mount('/content/drive', force_remount=True)"
      ],
      "metadata": {
        "colab": {
          "base_uri": "https://localhost:8080/"
        },
        "id": "sjUW9cdYijJI",
        "outputId": "b024a1b2-9f0e-4494-d497-54832e1cdd56"
      },
      "execution_count": 2,
      "outputs": [
        {
          "output_type": "stream",
          "name": "stdout",
          "text": [
            "Mounted at /content/drive\n"
          ]
        }
      ]
    },
    {
      "cell_type": "code",
      "source": [
        "pwd"
      ],
      "metadata": {
        "colab": {
          "base_uri": "https://localhost:8080/",
          "height": 35
        },
        "id": "8sCwR8Sc0j3c",
        "outputId": "23bc1591-321c-4c85-ff0a-f898c64e88cb"
      },
      "execution_count": 3,
      "outputs": [
        {
          "output_type": "execute_result",
          "data": {
            "application/vnd.google.colaboratory.intrinsic+json": {
              "type": "string"
            },
            "text/plain": [
              "'/content'"
            ]
          },
          "metadata": {},
          "execution_count": 3
        }
      ]
    },
    {
      "cell_type": "code",
      "source": [
        "! cp -r \"/content/drive/MyDrive/Jigsaw/data/train.csv\" .\n",
        "! cp -r \"/content/drive/MyDrive/Jigsaw/data/test.csv\" .\n",
        "! cp -r \"/content/drive/MyDrive/Jigsaw/data/test_labels.csv\" ."
      ],
      "metadata": {
        "id": "pGQyOtJkjg4h"
      },
      "execution_count": 4,
      "outputs": []
    },
    {
      "cell_type": "code",
      "execution_count": 7,
      "metadata": {
        "id": "SkC2CZMyc_QW"
      },
      "outputs": [],
      "source": [
        "\n",
        "def save_data(data, dataroot, cap):\n",
        "    categories = [\"toxic\",\"severe_toxic\",\"obscene\",\"threat\",\"insult\",\"identity_hate\"]\n",
        "    tc = 0\n",
        "    ntc = 0\n",
        "    for index, row in tqdm(data.iterrows()):\n",
        "        filename = row['id']\n",
        "        text = row['comment_text']\n",
        "        # print(row['toxic'])\n",
        "        \n",
        "        labels = []\n",
        "        for cat in categories:\n",
        "            labels.append(row[cat])\n",
        "        \n",
        "        if (min(labels)==0 and max(labels)==0): toxic = -1\n",
        "        elif (max(labels) == 1): toxic = 1\n",
        "        else: toxic = 0\n",
        "\n",
        "        if cap is not None and tc>=cap and ntc>=cap:\n",
        "            break\n",
        "        \n",
        "        if toxic==1:\n",
        "            if cap is not None and tc>=cap:\n",
        "                continue\n",
        "            tc+=1\n",
        "            # filepath = os.path.join(dataroot, \"toxic\", filename)+\".txt\"\n",
        "            filepath = dataroot + \"/toxic/{}.txt\".format(filename) \n",
        "        elif toxic==-1:\n",
        "            if cap is not None and ntc>=cap:\n",
        "                continue\n",
        "            ntc+=1\n",
        "            # filepath = os.path.join(dataroot, \"non_toxic\", filename)+\".txt\"\n",
        "            filepath = dataroot + \"/non_toxic/{}.txt\".format(filename) \n",
        "        else:\n",
        "            continue\n",
        "        with open(filepath, 'w') as file:\n",
        "          file.write(text)"
      ]
    },
    {
      "cell_type": "code",
      "execution_count": null,
      "metadata": {
        "id": "e-dl3rkec_QX",
        "outputId": "55365731-3ad5-4ce5-8100-31d2b8136fc9",
        "colab": {
          "base_uri": "https://localhost:8080/"
        }
      },
      "outputs": [
        {
          "output_type": "stream",
          "name": "stderr",
          "text": [
            "159555it [04:32, 585.83it/s] \n"
          ]
        }
      ],
      "source": [
        "cap = 16225\n",
        "dataroot = \"./jigsaw1_use_balanced/train\"\n",
        "\n",
        "trainpath = \"./train.csv\"\n",
        "data =  pd.read_csv(trainpath)\n",
        "\n",
        "save_data(data, dataroot, cap)\n",
        "\n"
      ]
    },
    {
      "cell_type": "code",
      "execution_count": 10,
      "metadata": {
        "id": "8TiktMTDc_QY",
        "outputId": "6be40199-9d53-4216-fa18-6ab28acbe61a",
        "colab": {
          "base_uri": "https://localhost:8080/"
        }
      },
      "outputs": [
        {
          "output_type": "stream",
          "name": "stderr",
          "text": [
            "153156it [01:50, 1391.45it/s]\n"
          ]
        }
      ],
      "source": [
        "\n",
        "cap = 6243\n",
        "dataroot = \"./drive/MyDrive/Jigsaw/data/jigsaw1_use_balanced/test\"\n",
        "\n",
        "testpath = \"./test.csv\"\n",
        "testlabelspath = \"./test_labels.csv\"\n",
        "\n",
        "testdata =  pd.read_csv(testpath)\n",
        "testlabels =  pd.read_csv(testlabelspath)\n",
        "data = pd.merge(testdata, testlabels, on='id', how=\"inner\")\n",
        "\n",
        "\n",
        "save_data(data, dataroot, cap)\n",
        "    "
      ]
    },
    {
      "cell_type": "code",
      "source": [
        "display(data)"
      ],
      "metadata": {
        "colab": {
          "base_uri": "https://localhost:8080/",
          "height": 423
        },
        "id": "SglytKcIwE5w",
        "outputId": "56f9f986-47fd-4b67-b6ca-c61af9faa84b"
      },
      "execution_count": null,
      "outputs": [
        {
          "output_type": "display_data",
          "data": {
            "text/html": [
              "<div>\n",
              "<style scoped>\n",
              "    .dataframe tbody tr th:only-of-type {\n",
              "        vertical-align: middle;\n",
              "    }\n",
              "\n",
              "    .dataframe tbody tr th {\n",
              "        vertical-align: top;\n",
              "    }\n",
              "\n",
              "    .dataframe thead th {\n",
              "        text-align: right;\n",
              "    }\n",
              "</style>\n",
              "<table border=\"1\" class=\"dataframe\">\n",
              "  <thead>\n",
              "    <tr style=\"text-align: right;\">\n",
              "      <th></th>\n",
              "      <th>id</th>\n",
              "      <th>comment_text</th>\n",
              "      <th>toxic</th>\n",
              "      <th>severe_toxic</th>\n",
              "      <th>obscene</th>\n",
              "      <th>threat</th>\n",
              "      <th>insult</th>\n",
              "      <th>identity_hate</th>\n",
              "    </tr>\n",
              "  </thead>\n",
              "  <tbody>\n",
              "    <tr>\n",
              "      <th>0</th>\n",
              "      <td>00001cee341fdb12</td>\n",
              "      <td>Yo bitch Ja Rule is more succesful then you'll...</td>\n",
              "      <td>-1</td>\n",
              "      <td>-1</td>\n",
              "      <td>-1</td>\n",
              "      <td>-1</td>\n",
              "      <td>-1</td>\n",
              "      <td>-1</td>\n",
              "    </tr>\n",
              "    <tr>\n",
              "      <th>1</th>\n",
              "      <td>0000247867823ef7</td>\n",
              "      <td>== From RfC == \\r\\n\\r\\n The title is fine as i...</td>\n",
              "      <td>-1</td>\n",
              "      <td>-1</td>\n",
              "      <td>-1</td>\n",
              "      <td>-1</td>\n",
              "      <td>-1</td>\n",
              "      <td>-1</td>\n",
              "    </tr>\n",
              "    <tr>\n",
              "      <th>2</th>\n",
              "      <td>00013b17ad220c46</td>\n",
              "      <td>\" \\r\\n\\r\\n == Sources == \\r\\n\\r\\n * Zawe Ashto...</td>\n",
              "      <td>-1</td>\n",
              "      <td>-1</td>\n",
              "      <td>-1</td>\n",
              "      <td>-1</td>\n",
              "      <td>-1</td>\n",
              "      <td>-1</td>\n",
              "    </tr>\n",
              "    <tr>\n",
              "      <th>3</th>\n",
              "      <td>00017563c3f7919a</td>\n",
              "      <td>:If you have a look back at the source, the in...</td>\n",
              "      <td>-1</td>\n",
              "      <td>-1</td>\n",
              "      <td>-1</td>\n",
              "      <td>-1</td>\n",
              "      <td>-1</td>\n",
              "      <td>-1</td>\n",
              "    </tr>\n",
              "    <tr>\n",
              "      <th>4</th>\n",
              "      <td>00017695ad8997eb</td>\n",
              "      <td>I don't anonymously edit articles at all.</td>\n",
              "      <td>-1</td>\n",
              "      <td>-1</td>\n",
              "      <td>-1</td>\n",
              "      <td>-1</td>\n",
              "      <td>-1</td>\n",
              "      <td>-1</td>\n",
              "    </tr>\n",
              "    <tr>\n",
              "      <th>...</th>\n",
              "      <td>...</td>\n",
              "      <td>...</td>\n",
              "      <td>...</td>\n",
              "      <td>...</td>\n",
              "      <td>...</td>\n",
              "      <td>...</td>\n",
              "      <td>...</td>\n",
              "      <td>...</td>\n",
              "    </tr>\n",
              "    <tr>\n",
              "      <th>153159</th>\n",
              "      <td>fffcd0960ee309b5</td>\n",
              "      <td>. \\r\\n i totally agree, this stuff is nothing ...</td>\n",
              "      <td>-1</td>\n",
              "      <td>-1</td>\n",
              "      <td>-1</td>\n",
              "      <td>-1</td>\n",
              "      <td>-1</td>\n",
              "      <td>-1</td>\n",
              "    </tr>\n",
              "    <tr>\n",
              "      <th>153160</th>\n",
              "      <td>fffd7a9a6eb32c16</td>\n",
              "      <td>== Throw from out field to home plate. == \\r\\n...</td>\n",
              "      <td>-1</td>\n",
              "      <td>-1</td>\n",
              "      <td>-1</td>\n",
              "      <td>-1</td>\n",
              "      <td>-1</td>\n",
              "      <td>-1</td>\n",
              "    </tr>\n",
              "    <tr>\n",
              "      <th>153161</th>\n",
              "      <td>fffda9e8d6fafa9e</td>\n",
              "      <td>\" \\r\\n\\r\\n == Okinotorishima categories == \\r\\...</td>\n",
              "      <td>-1</td>\n",
              "      <td>-1</td>\n",
              "      <td>-1</td>\n",
              "      <td>-1</td>\n",
              "      <td>-1</td>\n",
              "      <td>-1</td>\n",
              "    </tr>\n",
              "    <tr>\n",
              "      <th>153162</th>\n",
              "      <td>fffe8f1340a79fc2</td>\n",
              "      <td>\" \\r\\n\\r\\n == \"\"One of the founding nations of...</td>\n",
              "      <td>-1</td>\n",
              "      <td>-1</td>\n",
              "      <td>-1</td>\n",
              "      <td>-1</td>\n",
              "      <td>-1</td>\n",
              "      <td>-1</td>\n",
              "    </tr>\n",
              "    <tr>\n",
              "      <th>153163</th>\n",
              "      <td>ffffce3fb183ee80</td>\n",
              "      <td>\" \\r\\n :::Stop already. Your bullshit is not w...</td>\n",
              "      <td>-1</td>\n",
              "      <td>-1</td>\n",
              "      <td>-1</td>\n",
              "      <td>-1</td>\n",
              "      <td>-1</td>\n",
              "      <td>-1</td>\n",
              "    </tr>\n",
              "  </tbody>\n",
              "</table>\n",
              "<p>153164 rows × 8 columns</p>\n",
              "</div>"
            ],
            "text/plain": [
              "                      id  ... identity_hate\n",
              "0       00001cee341fdb12  ...            -1\n",
              "1       0000247867823ef7  ...            -1\n",
              "2       00013b17ad220c46  ...            -1\n",
              "3       00017563c3f7919a  ...            -1\n",
              "4       00017695ad8997eb  ...            -1\n",
              "...                  ...  ...           ...\n",
              "153159  fffcd0960ee309b5  ...            -1\n",
              "153160  fffd7a9a6eb32c16  ...            -1\n",
              "153161  fffda9e8d6fafa9e  ...            -1\n",
              "153162  fffe8f1340a79fc2  ...            -1\n",
              "153163  ffffce3fb183ee80  ...            -1\n",
              "\n",
              "[153164 rows x 8 columns]"
            ]
          },
          "metadata": {}
        }
      ]
    },
    {
      "cell_type": "markdown",
      "metadata": {
        "id": "6Xs_TMjbc_QZ"
      },
      "source": [
        "## Jigsaw 3"
      ]
    },
    {
      "cell_type": "code",
      "execution_count": null,
      "metadata": {
        "id": "Mgqx6jVZc_Qa",
        "outputId": "9dc9bd24-e055-428f-dc42-319b059532f0"
      },
      "outputs": [
        {
          "data": {
            "text/html": [
              "<div>\n",
              "<style scoped>\n",
              "    .dataframe tbody tr th:only-of-type {\n",
              "        vertical-align: middle;\n",
              "    }\n",
              "\n",
              "    .dataframe tbody tr th {\n",
              "        vertical-align: top;\n",
              "    }\n",
              "\n",
              "    .dataframe thead th {\n",
              "        text-align: right;\n",
              "    }\n",
              "</style>\n",
              "<table border=\"1\" class=\"dataframe\">\n",
              "  <thead>\n",
              "    <tr style=\"text-align: right;\">\n",
              "      <th></th>\n",
              "      <th>comment_id</th>\n",
              "      <th>text</th>\n",
              "    </tr>\n",
              "  </thead>\n",
              "  <tbody>\n",
              "    <tr>\n",
              "      <th>0</th>\n",
              "      <td>114890</td>\n",
              "      <td>\"\\n \\n\\nGjalexei, you asked about whether ther...</td>\n",
              "    </tr>\n",
              "    <tr>\n",
              "      <th>1</th>\n",
              "      <td>732895</td>\n",
              "      <td>Looks like be have an abuser , can you please ...</td>\n",
              "    </tr>\n",
              "    <tr>\n",
              "      <th>2</th>\n",
              "      <td>1139051</td>\n",
              "      <td>I confess to having complete (and apparently b...</td>\n",
              "    </tr>\n",
              "    <tr>\n",
              "      <th>3</th>\n",
              "      <td>1434512</td>\n",
              "      <td>\"\\n\\nFreud's ideas are certainly much discusse...</td>\n",
              "    </tr>\n",
              "    <tr>\n",
              "      <th>4</th>\n",
              "      <td>2084821</td>\n",
              "      <td>It is not just you. This is a laundry list of ...</td>\n",
              "    </tr>\n",
              "    <tr>\n",
              "      <th>...</th>\n",
              "      <td>...</td>\n",
              "      <td>...</td>\n",
              "    </tr>\n",
              "    <tr>\n",
              "      <th>7532</th>\n",
              "      <td>504235362</td>\n",
              "      <td>Go away, you annoying vandal.</td>\n",
              "    </tr>\n",
              "    <tr>\n",
              "      <th>7533</th>\n",
              "      <td>504235566</td>\n",
              "      <td>This user is a vandal.</td>\n",
              "    </tr>\n",
              "    <tr>\n",
              "      <th>7534</th>\n",
              "      <td>504308177</td>\n",
              "      <td>\" \\n\\nSorry to sound like a pain, but one by f...</td>\n",
              "    </tr>\n",
              "    <tr>\n",
              "      <th>7535</th>\n",
              "      <td>504570375</td>\n",
              "      <td>Well it's pretty fucking irrelevant now I'm un...</td>\n",
              "    </tr>\n",
              "    <tr>\n",
              "      <th>7536</th>\n",
              "      <td>504598250</td>\n",
              "      <td>The team name is Great Britain and Northern Ir...</td>\n",
              "    </tr>\n",
              "  </tbody>\n",
              "</table>\n",
              "<p>7537 rows × 2 columns</p>\n",
              "</div>"
            ],
            "text/plain": [
              "      comment_id                                               text\n",
              "0         114890  \"\\n \\n\\nGjalexei, you asked about whether ther...\n",
              "1         732895  Looks like be have an abuser , can you please ...\n",
              "2        1139051  I confess to having complete (and apparently b...\n",
              "3        1434512  \"\\n\\nFreud's ideas are certainly much discusse...\n",
              "4        2084821  It is not just you. This is a laundry list of ...\n",
              "...          ...                                                ...\n",
              "7532   504235362                      Go away, you annoying vandal.\n",
              "7533   504235566                           This user is a vandal.  \n",
              "7534   504308177  \" \\n\\nSorry to sound like a pain, but one by f...\n",
              "7535   504570375  Well it's pretty fucking irrelevant now I'm un...\n",
              "7536   504598250  The team name is Great Britain and Northern Ir...\n",
              "\n",
              "[7537 rows x 2 columns]"
            ]
          },
          "execution_count": 136,
          "metadata": {},
          "output_type": "execute_result"
        }
      ],
      "source": [
        "trainfile = \"../data/jigsaw3_org/comments_to_score.csv\"\n",
        "data =  pd.read_csv(trainfile)\n",
        "data"
      ]
    },
    {
      "cell_type": "code",
      "execution_count": null,
      "metadata": {
        "id": "cmSHNC-Jc_Qa",
        "outputId": "43dac232-1bbb-4843-971d-d77637cde4c5"
      },
      "outputs": [
        {
          "name": "stderr",
          "output_type": "stream",
          "text": [
            "0it [00:00, ?it/s]"
          ]
        },
        {
          "name": "stdout",
          "output_type": "stream",
          "text": [
            "\"\n",
            " \n",
            "\n",
            "Gjalexei, you asked about whether there is an \"\"anti-editorializing\"\" policy here.  There is, and it's called wikipedia:neutral point of view.  It discusses at some length  the case of what we should do when writing about a subject which most of us find repugnant.  Whilst you're not likely to get too many defenders of FGM here, the need for the policy should be clearer for articles like abortion, for instance.\n",
            "\n",
            "If something you write is edited and you're not sure why, please continue to question such edits on the talk page.  Sometimes, you'll learn more about wikipedia policy.  Sometimes, you'll find out that some other people working on here can get it flat-out wrong ) Robert Merkel\"\n"
          ]
        },
        {
          "name": "stderr",
          "output_type": "stream",
          "text": [
            "\n"
          ]
        }
      ],
      "source": [
        "for index, row in tqdm(data.iterrows()):\n",
        "    print(row['text'])\n",
        "    break"
      ]
    },
    {
      "cell_type": "code",
      "execution_count": null,
      "metadata": {
        "id": "_l2rcgi0c_Qb"
      },
      "outputs": [],
      "source": [
        ""
      ]
    }
  ],
  "metadata": {
    "interpreter": {
      "hash": "943c78cd25a98b24f8d12eaebf5032b5aad3769da73cb65659665ceeebe3ca00"
    },
    "kernelspec": {
      "display_name": "Python 3.9.6 64-bit ('cs7643-a1': conda)",
      "language": "python",
      "name": "python3"
    },
    "language_info": {
      "codemirror_mode": {
        "name": "ipython",
        "version": 3
      },
      "file_extension": ".py",
      "mimetype": "text/x-python",
      "name": "python",
      "nbconvert_exporter": "python",
      "pygments_lexer": "ipython3",
      "version": "3.9.6"
    },
    "orig_nbformat": 4,
    "colab": {
      "name": "drive_data_prep.ipynb",
      "provenance": []
    }
  },
  "nbformat": 4,
  "nbformat_minor": 0
}