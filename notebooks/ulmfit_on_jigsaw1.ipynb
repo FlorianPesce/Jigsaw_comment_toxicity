{
  "nbformat": 4,
  "nbformat_minor": 0,
  "metadata": {
    "colab": {
      "name": "ulmfit_on_jigsaw1.ipynb",
      "provenance": [],
      "collapsed_sections": []
    },
    "kernelspec": {
      "name": "python3",
      "display_name": "Python 3"
    },
    "language_info": {
      "name": "python"
    },
    "accelerator": "GPU"
  },
  "cells": [
    {
      "cell_type": "code",
      "metadata": {
        "id": "N6jspA7jVRct"
      },
      "source": [
        "! [ -e /content ] && pip install -Uqq fastai  # upgrade fastai on colab"
      ],
      "execution_count": 1,
      "outputs": []
    },
    {
      "cell_type": "code",
      "metadata": {
        "id": "dI_z2o_oVZU2"
      },
      "source": [
        "from fastai.text.all import *"
      ],
      "execution_count": 2,
      "outputs": []
    },
    {
      "cell_type": "code",
      "metadata": {
        "id": "kII_7zLPVdrL",
        "colab": {
          "base_uri": "https://localhost:8080/"
        },
        "outputId": "af44a6b7-14e4-46e0-f437-199f32697bc7"
      },
      "source": [
        "from google.colab import drive\n",
        "drive.mount('/content/drive')\n"
      ],
      "execution_count": 1,
      "outputs": [
        {
          "output_type": "stream",
          "name": "stdout",
          "text": [
            "Mounted at /content/drive\n"
          ]
        }
      ]
    },
    {
      "cell_type": "code",
      "metadata": {
        "id": "jcCalHg4f_gc",
        "colab": {
          "base_uri": "https://localhost:8080/"
        },
        "outputId": "c0ef8320-a366-4aba-8ac0-91258f8c8cd1"
      },
      "source": [
        "# ! cp -r \"/content/drive/My Drive/NLP_Project/data/jigsaw1_use_balanced.zip\" .\n",
        "# ! cp -r \"/content/drive/My Drive/NLP_Project/data/jigsaw1_use_balanced_tok.zip\" .\n",
        "# ! mkdir \"jigsaw1_use_balanced/models\"\n",
        "# ! cp -r \"/content/drive/My Drive/NLP_Project/data/models/acc88_6.pth\" \"jigsaw1_use_balanced/models\"\n",
        "# ! unzip jigsaw1_use_balanced.zip\n",
        "# ! unzip jigsaw1_use_balanced_tok.zip\n",
        "\n",
        "# ! cp -r \"/content/drive/My Drive/NLP_Project/data/jigsaw3.zip\" .\n",
        "# ! unzip jigsaw3.zip"
      ],
      "execution_count": 51,
      "outputs": [
        {
          "output_type": "stream",
          "name": "stdout",
          "text": [
            "Archive:  jigsaw3.zip\n",
            "  inflating: comments_to_score.csv   \n",
            "  inflating: sample_submission.csv   \n",
            "  inflating: validation_data.csv     \n"
          ]
        }
      ]
    },
    {
      "cell_type": "code",
      "metadata": {
        "id": "uyASIze1gTIQ",
        "colab": {
          "base_uri": "https://localhost:8080/",
          "height": 37
        },
        "outputId": "0b6f0806-8ec0-486e-f741-1ee3d8d33771"
      },
      "source": [
        "data_path = Path(\"jigsaw1_use_balanced/\")\n",
        "dls = TextDataLoaders.from_folder(path=data_path,train='train', valid='test')\n",
        "learn = text_classifier_learner(dls, AWD_LSTM, drop_mult=0.5, metrics=accuracy)"
      ],
      "execution_count": 3,
      "outputs": [
        {
          "output_type": "display_data",
          "data": {
            "text/html": [
              "\n",
              "    <div>\n",
              "        <style>\n",
              "            /* Turns off some styling */\n",
              "            progress {\n",
              "                /* gets rid of default border in Firefox and Opera. */\n",
              "                border: none;\n",
              "                /* Needs to be in here for Safari polyfill so background images work as expected. */\n",
              "                background-size: auto;\n",
              "            }\n",
              "            .progress-bar-interrupted, .progress-bar-interrupted::-webkit-progress-bar {\n",
              "                background: #F44336;\n",
              "            }\n",
              "        </style>\n",
              "      <progress value='105070592' class='' max='105067061' style='width:300px; height:20px; vertical-align: middle;'></progress>\n",
              "      100.00% [105070592/105067061 00:02<00:00]\n",
              "    </div>\n",
              "    "
            ],
            "text/plain": [
              "<IPython.core.display.HTML object>"
            ]
          },
          "metadata": {}
        }
      ]
    },
    {
      "cell_type": "code",
      "metadata": {
        "colab": {
          "base_uri": "https://localhost:8080/"
        },
        "id": "KmosnWAeQZIp",
        "outputId": "bdc1b628-655c-4a6c-e664-c2e57b1ea585"
      },
      "source": [
        "learn.load(\"acc88_6\")"
      ],
      "execution_count": 6,
      "outputs": [
        {
          "output_type": "execute_result",
          "data": {
            "text/plain": [
              "<fastai.text.learner.TextLearner at 0x7f9210afb050>"
            ]
          },
          "metadata": {},
          "execution_count": 6
        }
      ]
    },
    {
      "cell_type": "code",
      "metadata": {
        "colab": {
          "base_uri": "https://localhost:8080/",
          "height": 300
        },
        "id": "8D6wnwqcg6OS",
        "outputId": "0e957c53-bbf4-48a6-d7d3-109f6a9212cb"
      },
      "source": [
        "learn.lr_find()"
      ],
      "execution_count": null,
      "outputs": [
        {
          "output_type": "display_data",
          "data": {
            "text/html": [
              ""
            ],
            "text/plain": [
              "<IPython.core.display.HTML object>"
            ]
          },
          "metadata": {}
        },
        {
          "output_type": "execute_result",
          "data": {
            "text/plain": [
              "SuggestedLRs(valley=0.00015848931798245758)"
            ]
          },
          "metadata": {},
          "execution_count": 30
        },
        {
          "output_type": "display_data",
          "data": {
            "image/png": "[encoded data removed]",
            "text/plain": [
              "<Figure size 432x288 with 1 Axes>"
            ]
          },
          "metadata": {
            "needs_background": "light"
          }
        }
      ]
    },
    {
      "cell_type": "code",
      "metadata": {
        "colab": {
          "base_uri": "https://localhost:8080/",
          "height": 144
        },
        "id": "NzIgIUphWN0O",
        "outputId": "e65be8cf-7f1f-41f6-9fa2-a6e9e97aceed"
      },
      "source": [
        "learn.fine_tune(1, 5e-4)"
      ],
      "execution_count": null,
      "outputs": [
        {
          "output_type": "display_data",
          "data": {
            "text/html": [
              "<table border=\"1\" class=\"dataframe\">\n",
              "  <thead>\n",
              "    <tr style=\"text-align: left;\">\n",
              "      <th>epoch</th>\n",
              "      <th>train_loss</th>\n",
              "      <th>valid_loss</th>\n",
              "      <th>accuracy</th>\n",
              "      <th>time</th>\n",
              "    </tr>\n",
              "  </thead>\n",
              "  <tbody>\n",
              "    <tr>\n",
              "      <td>0</td>\n",
              "      <td>0.118936</td>\n",
              "      <td>0.480530</td>\n",
              "      <td>0.881227</td>\n",
              "      <td>01:26</td>\n",
              "    </tr>\n",
              "  </tbody>\n",
              "</table>"
            ],
            "text/plain": [
              "<IPython.core.display.HTML object>"
            ]
          },
          "metadata": {}
        },
        {
          "output_type": "display_data",
          "data": {
            "text/html": [
              "<table border=\"1\" class=\"dataframe\">\n",
              "  <thead>\n",
              "    <tr style=\"text-align: left;\">\n",
              "      <th>epoch</th>\n",
              "      <th>train_loss</th>\n",
              "      <th>valid_loss</th>\n",
              "      <th>accuracy</th>\n",
              "      <th>time</th>\n",
              "    </tr>\n",
              "  </thead>\n",
              "  <tbody>\n",
              "    <tr>\n",
              "      <td>0</td>\n",
              "      <td>0.116166</td>\n",
              "      <td>0.437216</td>\n",
              "      <td>0.886513</td>\n",
              "      <td>01:57</td>\n",
              "    </tr>\n",
              "  </tbody>\n",
              "</table>"
            ],
            "text/plain": [
              "<IPython.core.display.HTML object>"
            ]
          },
          "metadata": {}
        }
      ]
    },
    {
      "cell_type": "code",
      "metadata": {
        "colab": {
          "base_uri": "https://localhost:8080/",
          "height": 239
        },
        "id": "NNxHXsRcjgTW",
        "outputId": "3c188775-ef27-4d5c-e388-4077f75140fc"
      },
      "source": [
        "learn.fine_tune(4, 5e-4)"
      ],
      "execution_count": null,
      "outputs": [
        {
          "output_type": "display_data",
          "data": {
            "text/html": [
              "<table border=\"1\" class=\"dataframe\">\n",
              "  <thead>\n",
              "    <tr style=\"text-align: left;\">\n",
              "      <th>epoch</th>\n",
              "      <th>train_loss</th>\n",
              "      <th>valid_loss</th>\n",
              "      <th>accuracy</th>\n",
              "      <th>time</th>\n",
              "    </tr>\n",
              "  </thead>\n",
              "  <tbody>\n",
              "    <tr>\n",
              "      <td>0</td>\n",
              "      <td>0.170823</td>\n",
              "      <td>0.394887</td>\n",
              "      <td>0.877783</td>\n",
              "      <td>01:03</td>\n",
              "    </tr>\n",
              "  </tbody>\n",
              "</table>"
            ],
            "text/plain": [
              "<IPython.core.display.HTML object>"
            ]
          },
          "metadata": {}
        },
        {
          "output_type": "display_data",
          "data": {
            "text/html": [
              "<table border=\"1\" class=\"dataframe\">\n",
              "  <thead>\n",
              "    <tr style=\"text-align: left;\">\n",
              "      <th>epoch</th>\n",
              "      <th>train_loss</th>\n",
              "      <th>valid_loss</th>\n",
              "      <th>accuracy</th>\n",
              "      <th>time</th>\n",
              "    </tr>\n",
              "  </thead>\n",
              "  <tbody>\n",
              "    <tr>\n",
              "      <td>0</td>\n",
              "      <td>0.169375</td>\n",
              "      <td>0.397712</td>\n",
              "      <td>0.877142</td>\n",
              "      <td>01:43</td>\n",
              "    </tr>\n",
              "    <tr>\n",
              "      <td>1</td>\n",
              "      <td>0.199163</td>\n",
              "      <td>0.393543</td>\n",
              "      <td>0.876181</td>\n",
              "      <td>01:45</td>\n",
              "    </tr>\n",
              "    <tr>\n",
              "      <td>2</td>\n",
              "      <td>0.164312</td>\n",
              "      <td>0.408314</td>\n",
              "      <td>0.877463</td>\n",
              "      <td>01:43</td>\n",
              "    </tr>\n",
              "    <tr>\n",
              "      <td>3</td>\n",
              "      <td>0.166045</td>\n",
              "      <td>0.397046</td>\n",
              "      <td>0.880586</td>\n",
              "      <td>01:44</td>\n",
              "    </tr>\n",
              "  </tbody>\n",
              "</table>"
            ],
            "text/plain": [
              "<IPython.core.display.HTML object>"
            ]
          },
          "metadata": {}
        }
      ]
    },
    {
      "cell_type": "code",
      "metadata": {
        "colab": {
          "base_uri": "https://localhost:8080/",
          "height": 175
        },
        "id": "tfYeHKW5465h",
        "outputId": "86d01c3d-016a-440d-bbcd-7851d60543e8"
      },
      "source": [
        "learn.unfreeze()\n",
        "learn.fit_one_cycle(4, 1e-4)"
      ],
      "execution_count": null,
      "outputs": [
        {
          "output_type": "display_data",
          "data": {
            "text/html": [
              "<table border=\"1\" class=\"dataframe\">\n",
              "  <thead>\n",
              "    <tr style=\"text-align: left;\">\n",
              "      <th>epoch</th>\n",
              "      <th>train_loss</th>\n",
              "      <th>valid_loss</th>\n",
              "      <th>accuracy</th>\n",
              "      <th>time</th>\n",
              "    </tr>\n",
              "  </thead>\n",
              "  <tbody>\n",
              "    <tr>\n",
              "      <td>0</td>\n",
              "      <td>0.161270</td>\n",
              "      <td>0.386932</td>\n",
              "      <td>0.881387</td>\n",
              "      <td>01:44</td>\n",
              "    </tr>\n",
              "    <tr>\n",
              "      <td>1</td>\n",
              "      <td>0.150634</td>\n",
              "      <td>0.399141</td>\n",
              "      <td>0.883069</td>\n",
              "      <td>01:44</td>\n",
              "    </tr>\n",
              "    <tr>\n",
              "      <td>2</td>\n",
              "      <td>0.132452</td>\n",
              "      <td>0.417661</td>\n",
              "      <td>0.885231</td>\n",
              "      <td>01:43</td>\n",
              "    </tr>\n",
              "    <tr>\n",
              "      <td>3</td>\n",
              "      <td>0.129382</td>\n",
              "      <td>0.403247</td>\n",
              "      <td>0.886112</td>\n",
              "      <td>01:44</td>\n",
              "    </tr>\n",
              "  </tbody>\n",
              "</table>"
            ],
            "text/plain": [
              "<IPython.core.display.HTML object>"
            ]
          },
          "metadata": {}
        }
      ]
    },
    {
      "cell_type": "code",
      "metadata": {
        "id": "A2B9ub7060Qr"
      },
      "source": [
        "learn.save(\"acc88_6\")\n",
        "pickle.dump(dls.vocab, open(\"jigsaw1_lm.pickle\", 'wb'))"
      ],
      "execution_count": null,
      "outputs": []
    },
    {
      "cell_type": "code",
      "metadata": {
        "id": "_gQGJPm1821O"
      },
      "source": [
        ""
      ],
      "execution_count": null,
      "outputs": []
    },
    {
      "cell_type": "code",
      "metadata": {
        "id": "D_vLU_eM9NN4"
      },
      "source": [
        "# ! zip -r jigsaw1_use_balanced_tok.zip jigsaw1_use_balanced_tok\n",
        "# ! cp jigsaw1_use_balanced_tok.zip \"/content/drive/My Drive/NLP_Project/data/\"\n",
        "# ! cp jigsaw1_lm.pickle \"/content/drive/My Drive/NLP_Project/data/\"\n",
        "# ! cp -r \"jigsaw1_use_balanced/models/acc88_6.pth\" \"/content/drive/My Drive/NLP_Project/data/models/\""
      ],
      "execution_count": null,
      "outputs": []
    },
    {
      "cell_type": "code",
      "metadata": {
        "colab": {
          "base_uri": "https://localhost:8080/",
          "height": 34
        },
        "id": "Q13mLEby9mLh",
        "outputId": "59897882-0a43-432c-85a4-18e9b16add48"
      },
      "source": [
        "learn.predict(\"i hate men\")"
      ],
      "execution_count": null,
      "outputs": [
        {
          "output_type": "display_data",
          "data": {
            "text/html": [
              ""
            ],
            "text/plain": [
              "<IPython.core.display.HTML object>"
            ]
          },
          "metadata": {}
        },
        {
          "output_type": "execute_result",
          "data": {
            "text/plain": [
              "('toxic', TensorText(1), TensorText([0.0035, 0.9965]))"
            ]
          },
          "metadata": {},
          "execution_count": 59
        }
      ]
    },
    {
      "cell_type": "code",
      "metadata": {
        "colab": {
          "base_uri": "https://localhost:8080/"
        },
        "id": "OukD5MEx_OWh",
        "outputId": "24f5645a-92fd-412c-9126-44861c7a958d"
      },
      "source": [
        "! cp -r \"/content/drive/My Drive/NLP_Project/data/jigsaw3.zip\" .\n",
        "! unzip jigsaw3.zip"
      ],
      "execution_count": null,
      "outputs": [
        {
          "output_type": "stream",
          "name": "stdout",
          "text": [
            "Archive:  jigsaw3.zip\n",
            "  inflating: comments_to_score.csv   \n",
            "  inflating: sample_submission.csv   \n",
            "  inflating: validation_data.csv     \n"
          ]
        }
      ]
    },
    {
      "cell_type": "markdown",
      "source": [
        "# Batch Inference "
      ],
      "metadata": {
        "id": "w1BHKzs-d1cl"
      }
    },
    {
      "cell_type": "code",
      "metadata": {
        "id": "-aDVhBkvG3MC",
        "colab": {
          "base_uri": "https://localhost:8080/",
          "height": 34
        },
        "outputId": "448851de-b777-4a4c-b576-363d6b26a429"
      },
      "source": [
        "from tqdm import tqdm\n",
        "\n",
        "test_data =  pd.read_csv(\"comments_to_score.csv\")\n",
        "comments_list = []\n",
        "id_list = []\n",
        "for index, row in tqdm(test_data.iterrows()):\n",
        "  id_list.append(row['comment_id'])\n",
        "  comments_list.append(row['text'])\n",
        "\n",
        "test_dl = dls.test_dl(comments_list)\n",
        "preds = learn.get_preds(dl=test_dl)\n",
        "\n",
        "scores = preds[0].cpu().numpy()[:,1]\n",
        "outfile = open(\"submission.csv\",'w')\n",
        "outfile.write(\"{},{}\\n\".format(\"comment_id\", \"score\"))\n",
        "\n",
        "for i in range(len(scores)):\n",
        "  outfile.write(\"{},{}\\n\".format(id_list[i], scores[i]))\n",
        "outfile.close() \n"
      ],
      "execution_count": 70,
      "outputs": [
        {
          "output_type": "stream",
          "name": "stderr",
          "text": [
            "7537it [00:00, 13287.76it/s]\n"
          ]
        },
        {
          "output_type": "display_data",
          "data": {
            "text/html": [
              ""
            ],
            "text/plain": [
              "<IPython.core.display.HTML object>"
            ]
          },
          "metadata": {}
        }
      ]
    },
    {
      "cell_type": "markdown",
      "source": [
        "# Validation"
      ],
      "metadata": {
        "id": "T6dI-aIfkYJ-"
      }
    },
    {
      "cell_type": "code",
      "source": [
        "valid_data =  pd.read_csv(\"validation_data.csv\")\n",
        "less_toxic = []\n",
        "more_toxic = []\n",
        "for index, row in tqdm(valid_data.iterrows()):\n",
        "  less_toxic.append(row['less_toxic'])\n",
        "  more_toxic.append(row['more_toxic'])\n",
        "all_comments = less_toxic+more_toxic"
      ],
      "metadata": {
        "id": "xeOOXCVokZIB"
      },
      "execution_count": null,
      "outputs": []
    },
    {
      "cell_type": "code",
      "source": [
        "# Inference\n",
        "test_dl = dls.test_dl(all_comments)\n",
        "preds = learn.get_preds(dl=test_dl)"
      ],
      "metadata": {
        "colab": {
          "base_uri": "https://localhost:8080/",
          "height": 17
        },
        "id": "Yc_6iD-WlT7j",
        "outputId": "2694b2f4-8b62-4381-e144-a621b8bbef0d"
      },
      "execution_count": 83,
      "outputs": [
        {
          "output_type": "display_data",
          "data": {
            "text/html": [
              ""
            ],
            "text/plain": [
              "<IPython.core.display.HTML object>"
            ]
          },
          "metadata": {}
        }
      ]
    },
    {
      "cell_type": "code",
      "source": [
        " # Score\n",
        "scores = preds[0].cpu().numpy()[:,1]\n",
        "less, more = np.split(scores, 2)\n",
        "validation_score = (less<more).sum()/len(less)\n",
        "\n",
        " # Score random\n",
        "np.random.seed(1)\n",
        "scores = np.random.rand(valid_data.count()[0])\n",
        "less, more = np.split(scores, 2)\n",
        "validation_score_random = (less<more).sum()/len(less)\n",
        "\n",
        "print(\"Validation score: {}\\nValidation score random: {}\".format(validation_score, validation_score_random))"
      ],
      "metadata": {
        "colab": {
          "base_uri": "https://localhost:8080/"
        },
        "id": "N0QXOZDglj5j",
        "outputId": "80fbbbcb-7abf-4633-e1a7-b6d1ec81d2f7"
      },
      "execution_count": 124,
      "outputs": [
        {
          "output_type": "stream",
          "name": "stdout",
          "text": [
            "Validation score: 0.6715823037066561\n",
            "Validation score random: 0.500464992692972\n"
          ]
        }
      ]
    },
    {
      "cell_type": "code",
      "source": [
        ""
      ],
      "metadata": {
        "id": "m-EZoII71Zsk"
      },
      "execution_count": null,
      "outputs": []
    }
  ]
}