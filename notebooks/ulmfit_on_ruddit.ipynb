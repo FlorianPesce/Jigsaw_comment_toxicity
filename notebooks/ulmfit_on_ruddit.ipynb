{
  "nbformat": 4,
  "nbformat_minor": 0,
  "metadata": {
    "colab": {
      "name": "ulmfit_on_ruddit.ipynb",
      "provenance": [],
      "collapsed_sections": []
    },
    "kernelspec": {
      "name": "python3",
      "display_name": "Python 3"
    },
    "language_info": {
      "name": "python"
    },
    "accelerator": "GPU"
  },
  "cells": [
    {
      "cell_type": "code",
      "metadata": {
        "id": "N6jspA7jVRct",
        "colab": {
          "base_uri": "https://localhost:8080/"
        },
        "outputId": "768cc4f1-1828-4add-a77d-3e28523222fd"
      },
      "source": [
        "! [ -e /content ] && pip install -Uqq fastai  # upgrade fastai on colab"
      ],
      "execution_count": 1,
      "outputs": [
        {
          "output_type": "stream",
          "name": "stdout",
          "text": [
            "\u001b[K     |████████████████████████████████| 189 kB 7.2 MB/s \n",
            "\u001b[K     |████████████████████████████████| 56 kB 2.8 MB/s \n",
            "\u001b[?25h"
          ]
        }
      ]
    },
    {
      "cell_type": "code",
      "metadata": {
        "id": "dI_z2o_oVZU2"
      },
      "source": [
        "from fastai.text.all import *"
      ],
      "execution_count": 2,
      "outputs": []
    },
    {
      "cell_type": "code",
      "metadata": {
        "id": "kII_7zLPVdrL",
        "colab": {
          "base_uri": "https://localhost:8080/"
        },
        "outputId": "a1b5e363-a21d-40ac-ce7e-c4b32844569e"
      },
      "source": [
        "from google.colab import drive\n",
        "drive.mount('/content/drive')\n"
      ],
      "execution_count": 3,
      "outputs": [
        {
          "output_type": "stream",
          "name": "stdout",
          "text": [
            "Mounted at /content/drive\n"
          ]
        }
      ]
    },
    {
      "cell_type": "code",
      "metadata": {
        "id": "jcCalHg4f_gc"
      },
      "source": [
        "! cp -r \"/content/drive/My Drive/NLP_Project/data/ruddit_with_text.csv\" .\n",
        "# ! cp -r \"/content/drive/My Drive/NLP_Project/data/jigsaw1_use_balanced_tok.zip\" .\n",
        "# ! mkdir \"jigsaw1_use_balanced/models\"\n",
        "# ! cp -r \"/content/drive/My Drive/NLP_Project/data/models/acc88_6.pth\" \"jigsaw1_use_balanced/models\"\n",
        "# ! unzip jigsaw1_use_balanced.zip\n",
        "# ! unzip jigsaw1_use_balanced_tok.zip\n",
        "\n",
        "# ! cp -r \"/content/drive/My Drive/NLP_Project/data/jigsaw3.zip\" .\n",
        "# ! unzip jigsaw3.zip"
      ],
      "execution_count": 4,
      "outputs": []
    },
    {
      "cell_type": "code",
      "metadata": {
        "id": "uyASIze1gTIQ",
        "colab": {
          "base_uri": "https://localhost:8080/",
          "height": 72
        },
        "outputId": "c385c951-ba75-4845-958a-40a557188173"
      },
      "source": [
        "\n",
        "# def interval(score, bins=5):\n",
        "#     scale = bins/2\n",
        "#     return int((score+1)*scale)\n",
        "\n",
        "def interval(score, bins=[0.6,0.8,1.,1.2,2.]):\n",
        "    for i, bound in enumerate(bins):\n",
        "        if (score+1)<bound:\n",
        "            ret = i\n",
        "            break\n",
        "    return ret\n",
        "\n",
        "df =  pd.read_csv(\"ruddit_with_text.csv\")\n",
        "df['label'] = df['offensiveness_score'].apply(interval)\n",
        "dls = TextDataLoaders.from_df(df, text_col='txt', label_col='label', valid_pct=0.2, seed=0)\n",
        "learn = text_classifier_learner(dls, AWD_LSTM, drop_mult=0.5, metrics=accuracy)"
      ],
      "execution_count": 19,
      "outputs": [
        {
          "output_type": "display_data",
          "data": {
            "text/html": [
              ""
            ],
            "text/plain": [
              "<IPython.core.display.HTML object>"
            ]
          },
          "metadata": {}
        },
        {
          "output_type": "stream",
          "name": "stderr",
          "text": [
            "/usr/local/lib/python3.7/dist-packages/numpy/core/_asarray.py:83: VisibleDeprecationWarning: Creating an ndarray from ragged nested sequences (which is a list-or-tuple of lists-or-tuples-or ndarrays with different lengths or shapes) is deprecated. If you meant to do this, you must specify 'dtype=object' when creating the ndarray\n",
            "  return array(a, dtype, copy=False, order=order)\n"
          ]
        }
      ]
    },
    {
      "cell_type": "code",
      "metadata": {
        "colab": {
          "base_uri": "https://localhost:8080/",
          "height": 300
        },
        "id": "8D6wnwqcg6OS",
        "outputId": "2149fac8-34b7-431a-b275-cfb6c3969dbd"
      },
      "source": [
        "learn.unfreeze()\n",
        "learn.lr_find()"
      ],
      "execution_count": 26,
      "outputs": [
        {
          "output_type": "display_data",
          "data": {
            "text/html": [
              ""
            ],
            "text/plain": [
              "<IPython.core.display.HTML object>"
            ]
          },
          "metadata": {}
        },
        {
          "output_type": "execute_result",
          "data": {
            "text/plain": [
              "SuggestedLRs(valley=3.630780702224001e-05)"
            ]
          },
          "metadata": {},
          "execution_count": 26
        },
        {
          "output_type": "display_data",
          "data": {
            "image/png": "[encoded data removed]",
            "text/plain": [
              "<Figure size 432x288 with 1 Axes>"
            ]
          },
          "metadata": {
            "needs_background": "light"
          }
        }
      ]
    },
    {
      "cell_type": "code",
      "metadata": {
        "colab": {
          "base_uri": "https://localhost:8080/",
          "height": 239
        },
        "id": "NzIgIUphWN0O",
        "outputId": "e0f302fa-09a9-4d99-d931-78eda0aa2a4a"
      },
      "source": [
        "learn.fine_tune(4, 5e-3)"
      ],
      "execution_count": 21,
      "outputs": [
        {
          "output_type": "display_data",
          "data": {
            "text/html": [
              "<table border=\"1\" class=\"dataframe\">\n",
              "  <thead>\n",
              "    <tr style=\"text-align: left;\">\n",
              "      <th>epoch</th>\n",
              "      <th>train_loss</th>\n",
              "      <th>valid_loss</th>\n",
              "      <th>accuracy</th>\n",
              "      <th>time</th>\n",
              "    </tr>\n",
              "  </thead>\n",
              "  <tbody>\n",
              "    <tr>\n",
              "      <td>0</td>\n",
              "      <td>1.583758</td>\n",
              "      <td>1.485721</td>\n",
              "      <td>0.348758</td>\n",
              "      <td>00:08</td>\n",
              "    </tr>\n",
              "  </tbody>\n",
              "</table>"
            ],
            "text/plain": [
              "<IPython.core.display.HTML object>"
            ]
          },
          "metadata": {}
        },
        {
          "output_type": "display_data",
          "data": {
            "text/html": [
              "<table border=\"1\" class=\"dataframe\">\n",
              "  <thead>\n",
              "    <tr style=\"text-align: left;\">\n",
              "      <th>epoch</th>\n",
              "      <th>train_loss</th>\n",
              "      <th>valid_loss</th>\n",
              "      <th>accuracy</th>\n",
              "      <th>time</th>\n",
              "    </tr>\n",
              "  </thead>\n",
              "  <tbody>\n",
              "    <tr>\n",
              "      <td>0</td>\n",
              "      <td>1.446737</td>\n",
              "      <td>1.367473</td>\n",
              "      <td>0.403599</td>\n",
              "      <td>00:10</td>\n",
              "    </tr>\n",
              "    <tr>\n",
              "      <td>1</td>\n",
              "      <td>1.397468</td>\n",
              "      <td>1.335048</td>\n",
              "      <td>0.377892</td>\n",
              "      <td>00:09</td>\n",
              "    </tr>\n",
              "    <tr>\n",
              "      <td>2</td>\n",
              "      <td>1.277810</td>\n",
              "      <td>1.295922</td>\n",
              "      <td>0.423308</td>\n",
              "      <td>00:10</td>\n",
              "    </tr>\n",
              "    <tr>\n",
              "      <td>3</td>\n",
              "      <td>1.180328</td>\n",
              "      <td>1.289279</td>\n",
              "      <td>0.417309</td>\n",
              "      <td>00:09</td>\n",
              "    </tr>\n",
              "  </tbody>\n",
              "</table>"
            ],
            "text/plain": [
              "<IPython.core.display.HTML object>"
            ]
          },
          "metadata": {}
        }
      ]
    },
    {
      "cell_type": "code",
      "metadata": {
        "colab": {
          "base_uri": "https://localhost:8080/",
          "height": 239
        },
        "id": "NNxHXsRcjgTW",
        "outputId": "a0d6b926-4c87-4bdf-aa32-af91e81ab5f4"
      },
      "source": [
        "learn.fine_tune(4, 1e-4)"
      ],
      "execution_count": 23,
      "outputs": [
        {
          "output_type": "display_data",
          "data": {
            "text/html": [
              "<table border=\"1\" class=\"dataframe\">\n",
              "  <thead>\n",
              "    <tr style=\"text-align: left;\">\n",
              "      <th>epoch</th>\n",
              "      <th>train_loss</th>\n",
              "      <th>valid_loss</th>\n",
              "      <th>accuracy</th>\n",
              "      <th>time</th>\n",
              "    </tr>\n",
              "  </thead>\n",
              "  <tbody>\n",
              "    <tr>\n",
              "      <td>0</td>\n",
              "      <td>1.125124</td>\n",
              "      <td>1.292402</td>\n",
              "      <td>0.419023</td>\n",
              "      <td>00:07</td>\n",
              "    </tr>\n",
              "  </tbody>\n",
              "</table>"
            ],
            "text/plain": [
              "<IPython.core.display.HTML object>"
            ]
          },
          "metadata": {}
        },
        {
          "output_type": "display_data",
          "data": {
            "text/html": [
              "<table border=\"1\" class=\"dataframe\">\n",
              "  <thead>\n",
              "    <tr style=\"text-align: left;\">\n",
              "      <th>epoch</th>\n",
              "      <th>train_loss</th>\n",
              "      <th>valid_loss</th>\n",
              "      <th>accuracy</th>\n",
              "      <th>time</th>\n",
              "    </tr>\n",
              "  </thead>\n",
              "  <tbody>\n",
              "    <tr>\n",
              "      <td>0</td>\n",
              "      <td>1.122581</td>\n",
              "      <td>1.287249</td>\n",
              "      <td>0.428449</td>\n",
              "      <td>00:09</td>\n",
              "    </tr>\n",
              "    <tr>\n",
              "      <td>1</td>\n",
              "      <td>1.124554</td>\n",
              "      <td>1.285116</td>\n",
              "      <td>0.423308</td>\n",
              "      <td>00:09</td>\n",
              "    </tr>\n",
              "    <tr>\n",
              "      <td>2</td>\n",
              "      <td>1.122165</td>\n",
              "      <td>1.286480</td>\n",
              "      <td>0.425021</td>\n",
              "      <td>00:09</td>\n",
              "    </tr>\n",
              "    <tr>\n",
              "      <td>3</td>\n",
              "      <td>1.105430</td>\n",
              "      <td>1.289287</td>\n",
              "      <td>0.427592</td>\n",
              "      <td>00:10</td>\n",
              "    </tr>\n",
              "  </tbody>\n",
              "</table>"
            ],
            "text/plain": [
              "<IPython.core.display.HTML object>"
            ]
          },
          "metadata": {}
        }
      ]
    },
    {
      "cell_type": "code",
      "metadata": {
        "colab": {
          "base_uri": "https://localhost:8080/",
          "height": 300
        },
        "id": "tfYeHKW5465h",
        "outputId": "02992a73-60e8-44d8-bdf3-67e8fdf76464"
      },
      "source": [
        "learn.unfreeze()\n",
        "learn.fit_one_cycle(8, 3e-5)"
      ],
      "execution_count": 27,
      "outputs": [
        {
          "output_type": "display_data",
          "data": {
            "text/html": [
              "<table border=\"1\" class=\"dataframe\">\n",
              "  <thead>\n",
              "    <tr style=\"text-align: left;\">\n",
              "      <th>epoch</th>\n",
              "      <th>train_loss</th>\n",
              "      <th>valid_loss</th>\n",
              "      <th>accuracy</th>\n",
              "      <th>time</th>\n",
              "    </tr>\n",
              "  </thead>\n",
              "  <tbody>\n",
              "    <tr>\n",
              "      <td>0</td>\n",
              "      <td>1.121688</td>\n",
              "      <td>1.283801</td>\n",
              "      <td>0.423308</td>\n",
              "      <td>00:09</td>\n",
              "    </tr>\n",
              "    <tr>\n",
              "      <td>1</td>\n",
              "      <td>1.102602</td>\n",
              "      <td>1.279455</td>\n",
              "      <td>0.436161</td>\n",
              "      <td>00:09</td>\n",
              "    </tr>\n",
              "    <tr>\n",
              "      <td>2</td>\n",
              "      <td>1.107373</td>\n",
              "      <td>1.280633</td>\n",
              "      <td>0.422451</td>\n",
              "      <td>00:09</td>\n",
              "    </tr>\n",
              "    <tr>\n",
              "      <td>3</td>\n",
              "      <td>1.085875</td>\n",
              "      <td>1.274702</td>\n",
              "      <td>0.434447</td>\n",
              "      <td>00:09</td>\n",
              "    </tr>\n",
              "    <tr>\n",
              "      <td>4</td>\n",
              "      <td>1.072212</td>\n",
              "      <td>1.272936</td>\n",
              "      <td>0.427592</td>\n",
              "      <td>00:09</td>\n",
              "    </tr>\n",
              "    <tr>\n",
              "      <td>5</td>\n",
              "      <td>1.061388</td>\n",
              "      <td>1.280914</td>\n",
              "      <td>0.432734</td>\n",
              "      <td>00:09</td>\n",
              "    </tr>\n",
              "    <tr>\n",
              "      <td>6</td>\n",
              "      <td>1.060035</td>\n",
              "      <td>1.278859</td>\n",
              "      <td>0.430163</td>\n",
              "      <td>00:09</td>\n",
              "    </tr>\n",
              "    <tr>\n",
              "      <td>7</td>\n",
              "      <td>1.046118</td>\n",
              "      <td>1.275431</td>\n",
              "      <td>0.431020</td>\n",
              "      <td>00:09</td>\n",
              "    </tr>\n",
              "  </tbody>\n",
              "</table>"
            ],
            "text/plain": [
              "<IPython.core.display.HTML object>"
            ]
          },
          "metadata": {}
        }
      ]
    },
    {
      "cell_type": "code",
      "metadata": {
        "id": "A2B9ub7060Qr"
      },
      "source": [
        "modelname = \"bins5_acc62\"\n",
        "learn.save(modelname)\n",
        "! cp -r models/{modelname}.pth \"/content/drive/My Drive/NLP_Project/data/models/\" \n",
        "# pickle.dump(dls.vocab, open(\"jigsaw1_lm.pickle\", 'wb'))"
      ],
      "execution_count": 13,
      "outputs": []
    },
    {
      "cell_type": "code",
      "metadata": {
        "id": "D_vLU_eM9NN4"
      },
      "source": [
        "# ! zip -r jigsaw1_use_balanced_tok.zip jigsaw1_use_balanced_tok\n",
        "# ! cp jigsaw1_use_balanced_tok.zip \"/content/drive/My Drive/NLP_Project/data/\"\n",
        "# ! cp jigsaw1_lm.pickle \"/content/drive/My Drive/NLP_Project/data/\"\n",
        "# ! cp -r \"jigsaw1_use_balanced/models/acc88_6.pth\" \"/content/drive/My Drive/NLP_Project/data/models/\""
      ],
      "execution_count": null,
      "outputs": []
    },
    {
      "cell_type": "code",
      "metadata": {
        "colab": {
          "base_uri": "https://localhost:8080/",
          "height": 34
        },
        "id": "Q13mLEby9mLh",
        "outputId": "216c2cf9-8396-43af-b493-280cece3e5fa"
      },
      "source": [
        "learn.predict(\"this is good\")"
      ],
      "execution_count": 28,
      "outputs": [
        {
          "output_type": "display_data",
          "data": {
            "text/html": [
              ""
            ],
            "text/plain": [
              "<IPython.core.display.HTML object>"
            ]
          },
          "metadata": {}
        },
        {
          "output_type": "execute_result",
          "data": {
            "text/plain": [
              "('0', TensorText(0), TensorText([0.6040, 0.3684, 0.0117, 0.0013, 0.0146]))"
            ]
          },
          "metadata": {},
          "execution_count": 28
        }
      ]
    },
    {
      "cell_type": "code",
      "metadata": {
        "colab": {
          "base_uri": "https://localhost:8080/"
        },
        "id": "OukD5MEx_OWh",
        "outputId": "746067f0-a3b4-4612-e3ad-a0a59291c66b"
      },
      "source": [
        "! cp -r \"/content/drive/My Drive/NLP_Project/data/jigsaw3.zip\" .\n",
        "! unzip jigsaw3.zip"
      ],
      "execution_count": 14,
      "outputs": [
        {
          "output_type": "stream",
          "name": "stdout",
          "text": [
            "Archive:  jigsaw3.zip\n",
            "  inflating: comments_to_score.csv   \n",
            "  inflating: sample_submission.csv   \n",
            "  inflating: validation_data.csv     \n"
          ]
        }
      ]
    },
    {
      "cell_type": "markdown",
      "source": [
        "# Batch Inference "
      ],
      "metadata": {
        "id": "w1BHKzs-d1cl"
      }
    },
    {
      "cell_type": "code",
      "metadata": {
        "id": "-aDVhBkvG3MC",
        "colab": {
          "base_uri": "https://localhost:8080/",
          "height": 34
        },
        "outputId": "448851de-b777-4a4c-b576-363d6b26a429"
      },
      "source": [
        "from tqdm import tqdm\n",
        "\n",
        "test_data =  pd.read_csv(\"comments_to_score.csv\")\n",
        "comments_list = []\n",
        "id_list = []\n",
        "for index, row in tqdm(test_data.iterrows()):\n",
        "  id_list.append(row['comment_id'])\n",
        "  comments_list.append(row['text'])\n",
        "\n",
        "test_dl = dls.test_dl(comments_list)\n",
        "preds = learn.get_preds(dl=test_dl)\n",
        "\n",
        "scores = preds[0].cpu().numpy()[:,1]\n",
        "outfile = open(\"submission.csv\",'w')\n",
        "outfile.write(\"{},{}\\n\".format(\"comment_id\", \"score\"))\n",
        "\n",
        "for i in range(len(scores)):\n",
        "  outfile.write(\"{},{}\\n\".format(id_list[i], scores[i]))\n",
        "outfile.close() \n"
      ],
      "execution_count": null,
      "outputs": [
        {
          "output_type": "stream",
          "name": "stderr",
          "text": [
            "7537it [00:00, 13287.76it/s]\n"
          ]
        },
        {
          "output_type": "display_data",
          "data": {
            "text/html": [
              ""
            ],
            "text/plain": [
              "<IPython.core.display.HTML object>"
            ]
          },
          "metadata": {}
        }
      ]
    },
    {
      "cell_type": "markdown",
      "source": [
        "# Validation"
      ],
      "metadata": {
        "id": "T6dI-aIfkYJ-"
      }
    },
    {
      "cell_type": "code",
      "source": [
        "from tqdm import tqdm\n",
        "valid_data =  pd.read_csv(\"validation_data.csv\")\n",
        "less_toxic = []\n",
        "more_toxic = []\n",
        "for index, row in tqdm(valid_data.iterrows()):\n",
        "  less_toxic.append(row['less_toxic'])\n",
        "  more_toxic.append(row['more_toxic'])\n",
        "all_comments = less_toxic+more_toxic"
      ],
      "metadata": {
        "id": "xeOOXCVokZIB",
        "colab": {
          "base_uri": "https://localhost:8080/"
        },
        "outputId": "207cba80-3760-49c6-c2d1-abddc861372c"
      },
      "execution_count": 15,
      "outputs": [
        {
          "output_type": "stream",
          "name": "stderr",
          "text": [
            "30108it [00:02, 12430.32it/s]\n"
          ]
        }
      ]
    },
    {
      "cell_type": "code",
      "source": [
        "# Inference\n",
        "# test_dl = dls.test_dl(all_comments)\n",
        "preds = learn.get_preds(dl=test_dl)"
      ],
      "metadata": {
        "colab": {
          "base_uri": "https://localhost:8080/",
          "height": 17
        },
        "id": "Yc_6iD-WlT7j",
        "outputId": "380ed253-edf7-4d7f-ad7d-f8e9e8903848"
      },
      "execution_count": 28,
      "outputs": [
        {
          "output_type": "display_data",
          "data": {
            "text/html": [
              ""
            ],
            "text/plain": [
              "<IPython.core.display.HTML object>"
            ]
          },
          "metadata": {}
        }
      ]
    },
    {
      "cell_type": "code",
      "source": [
        " # Score\n",
        "rawpreds = preds[0].cpu().numpy()\n",
        "args = np.argmax(preds[0].cpu().numpy(),axis=1)\n",
        "slicedpreds = rawpreds[np.arange(rawpreds.shape[0]),args]\n",
        "scores = args+(slicedpreds)\n",
        "# scores = preds[0].cpu().numpy()[:,1]\n",
        "less, more = np.split(scores, 2)\n",
        "validation_score = (less<more).sum()/len(less)\n",
        "\n",
        " # Score random\n",
        "np.random.seed(1)\n",
        "scores = np.random.rand(valid_data.count()[0])\n",
        "less, more = np.split(scores, 2)\n",
        "validation_score_random = (less<more).sum()/len(less)\n",
        "\n",
        "print(\"Validation score: {}\\nValidation score random: {}\".format(validation_score, validation_score_random))"
      ],
      "metadata": {
        "colab": {
          "base_uri": "https://localhost:8080/"
        },
        "id": "N0QXOZDglj5j",
        "outputId": "a55e7c43-e734-42eb-f73c-1e7b3fe2bff8"
      },
      "execution_count": 29,
      "outputs": [
        {
          "output_type": "stream",
          "name": "stdout",
          "text": [
            "Validation score: 0.6313936495283645\n",
            "Validation score random: 0.500464992692972\n"
          ]
        }
      ]
    },
    {
      "cell_type": "code",
      "source": [
        ""
      ],
      "metadata": {
        "id": "m-EZoII71Zsk"
      },
      "execution_count": null,
      "outputs": []
    }
  ]
}